{
 "cells": [
  {
   "cell_type": "markdown",
   "metadata": {},
   "source": [
    "# Introduction of Capstone Project"
   ]
  },
  {
   "cell_type": "markdown",
   "metadata": {},
   "source": [
    "### The main idea of the capstone project is the exploration of Halifax city which in a eastern province, Nova Scotia, Canada. It is not one of the biggest cities in the world, however, it is considered as one of the best cities for living in in Canada. Hence, the assumption is basically made base on this city. The reason why not choose the big city like New York, Toronto or London was that restaurants are satiate already. There is less meanfulness to study into that sort of cities. Besides, Halifax is identified as one of the fastest developing cities in Canada. Consequently, studying into the areas of Halifax is the best for running a restaurant."
   ]
  }
 ],
 "metadata": {
  "kernelspec": {
   "display_name": "Python 3",
   "language": "python",
   "name": "python3"
  },
  "language_info": {
   "codemirror_mode": {
    "name": "ipython",
    "version": 3
   },
   "file_extension": ".py",
   "mimetype": "text/x-python",
   "name": "python",
   "nbconvert_exporter": "python",
   "pygments_lexer": "ipython3",
   "version": "3.7.3"
  }
 },
 "nbformat": 4,
 "nbformat_minor": 4
}
