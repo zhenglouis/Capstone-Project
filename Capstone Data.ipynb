{
 "cells": [
  {
   "cell_type": "markdown",
   "metadata": {},
   "source": [
    "# Data Section"
   ]
  },
  {
   "cell_type": "markdown",
   "metadata": {},
   "source": [
    "##### Data of this project is mainly the coordinates of Halifax. \n",
    "##### The first step is to find out the communities, area or neighborhood classification of Halifax. The first idea is to search in Wikipedia. Hence, the communities is found in https://en.wikipedia.org/wiki/Communities_in_the_Halifax_Regional_Municipality. There are four urban communities was captured into the study: Halifax Panasula, Mainland Halifax, Dartmouth and Bedford. The sub-communities was scrapied by using the BeautifulSoup package. Also, the coordinates of each communities was captured from Wikipedia link.\n",
    "##### The second step would be passing the coordinates to Foursquare database and explore the venues of the communities and transform into map and find the areas with low supply of restaurants. \n",
    "##### However, during the programming section, the coordinates from Wikipedia is not competable for folium package. Therefore, geo"
   ]
  },
  {
   "cell_type": "code",
   "execution_count": null,
   "metadata": {},
   "outputs": [],
   "source": []
  }
 ],
 "metadata": {
  "kernelspec": {
   "display_name": "Python 3",
   "language": "python",
   "name": "python3"
  },
  "language_info": {
   "codemirror_mode": {
    "name": "ipython",
    "version": 3
   },
   "file_extension": ".py",
   "mimetype": "text/x-python",
   "name": "python",
   "nbconvert_exporter": "python",
   "pygments_lexer": "ipython3",
   "version": "3.7.3"
  }
 },
 "nbformat": 4,
 "nbformat_minor": 4
}
